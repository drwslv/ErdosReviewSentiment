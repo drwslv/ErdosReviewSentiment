{
 "cells": [
  {
   "cell_type": "code",
   "execution_count": 2,
   "id": "430661c9-d89e-4147-9967-bd471dfd1382",
   "metadata": {},
   "outputs": [],
   "source": [
    "import json\n",
    "import pandas as pd"
   ]
  },
  {
   "cell_type": "code",
   "execution_count": 42,
   "id": "c4113f3b-4d32-418a-a1a9-2c7dfe7f765c",
   "metadata": {},
   "outputs": [],
   "source": [
    "# Import 10-core and metadata for given state\n",
    "df_vermont = pd.read_json('review-Vermont_10.json', lines=True, orient='columns')\n",
    "df_ver_meta = pd.read_json('meta-Vermont.json', lines=True, orient='columns')\n",
    "\n",
    "# Separates the categories into separate entries\n",
    "df_ver_meta = df_ver_meta.explode('category') \n",
    "\n",
    "# Maps data has many types of 'restaurants' with various adjectives\n",
    "filtered = df_ver_meta[df_ver_meta['category'].str.contains('estaurant', na=False)] \n",
    "filtered = filtered[filtered['category'] != 'Restaurant supply store'] # this is not a type of restaurant"
   ]
  },
  {
   "cell_type": "code",
   "execution_count": 46,
   "id": "f59420e3-296b-4baa-a1bb-557a0703b24c",
   "metadata": {},
   "outputs": [],
   "source": [
    "# Export gmaps ids from restaurants only\n",
    "gmaps_ids = filtered['gmap_id'].tolist() \n",
    "\n",
    "# Throw away reviews not of restaurants\n",
    "df_vermont = df_vermont[df_vermont['gmap_id'].isin(gmaps_ids)] \n",
    "\n",
    "# Keep only rating and text columns\n",
    "columns_to_keep = ['rating', 'text']\n",
    "columns_to_drop = [col for col in df_vermont.columns if col not in columns_to_keep]\n",
    "\n",
    "# Drop columns other than rating and review text\n",
    "df_vermont.drop(columns=columns_to_drop, inplace=True) \n",
    "\n",
    " # Throw away entries without any review text\n",
    "df_vermont = df_vermont[df_vermont['text'].astype(bool)]"
   ]
  },
  {
   "cell_type": "code",
   "execution_count": 48,
   "id": "8f787d93-59d5-46c1-8930-963139b74c09",
   "metadata": {},
   "outputs": [],
   "source": [
    "df_vermont.to_csv('vermont-restaurants.csv', index=False)"
   ]
  },
  {
   "cell_type": "code",
   "execution_count": null,
   "id": "60c08621-8b35-42e5-9684-d39cb6ef1aae",
   "metadata": {},
   "outputs": [],
   "source": []
  }
 ],
 "metadata": {
  "kernelspec": {
   "display_name": "Python [conda env:base] *",
   "language": "python",
   "name": "conda-base-py"
  },
  "language_info": {
   "codemirror_mode": {
    "name": "ipython",
    "version": 3
   },
   "file_extension": ".py",
   "mimetype": "text/x-python",
   "name": "python",
   "nbconvert_exporter": "python",
   "pygments_lexer": "ipython3",
   "version": "3.12.7"
  }
 },
 "nbformat": 4,
 "nbformat_minor": 5
}
